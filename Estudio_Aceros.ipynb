{
 "cells": [
  {
   "cell_type": "code",
   "execution_count": 2,
   "id": "dbe538e2-1dd1-46e5-bfd7-45832325cb2b",
   "metadata": {},
   "outputs": [],
   "source": [
    "# Aceros - Caracteristicas Mecanicas\n",
    "# Entre lo mas importantes es: Area, Inercia, W\n",
    "# Material: Es, fy, fu\n",
    "# ASTM 36\n",
    "# Esfuerzo de Fluencia\n",
    "Fy= 36 # ksi\n",
    "# Fy= 58 a 80 #ksi Resistencia en Tensión\n"
   ]
  },
  {
   "cell_type": "markdown",
   "id": "ccad942e-4004-40c1-bc65-8ffdf39c35f0",
   "metadata": {},
   "source": [
    "| Factores de Superficie (fs) | Pintura <br> Base | Pintura <br> Acabado |\n",
    "| :------- | :------: | -------: |\n",
    "| Acero nuevo pulido. | 0.95 | 0.98 |\n",
    "| Acero nuevo. | 0.90 | 0.95 |\n",
    "| Acero ligeramente oxidado, <br> limpiado Mecánicamente o con chorro de arena. | 0.80 | 0.85 |\n",
    "| Acero severamente oxidado, <br> limpiado Mecánicamente o con chorro de arena. | 0.60 | 0.65 |\n",
    "| Superficies con protección temporal <br> \"Shop-primer\" capa delgada. | 0.55 | - |\n",
    "| Concreto, mampostería en general y maderas. | 0.60 | 0.75 |\n"
   ]
  },
  {
   "cell_type": "markdown",
   "id": "a66a07b5-2177-4b2a-a69a-8c506066d51f",
   "metadata": {},
   "source": [
    "| Factores de Aplicación | fa |\n",
    "| :------- | ------: |\n",
    "| Aplicacion a brocha o con rodillo. | 0.90 |\n",
    "| Aplicaciones a pistola convencional <br> en interiores sin corriente de aire. | 0.80 |\n",
    "| Aplicaciones a pistola convencional <br> en interiores con corriente de aire. | 0.70 |\n",
    "| Aplicaciones a pistola \"airless\" <br> en interiores o exteriores con o sin corriente de aire. | 0.85 |"
   ]
  },
  {
   "cell_type": "markdown",
   "id": "f422a82b-b8c0-41df-96f4-d8db90bc4ffa",
   "metadata": {},
   "source": [
    "Rt -> Rendimiento Teórico. <br>\n",
    "Et -> Espesor de pelicula en micrones indicado en el redimiento teórico. <br>\n",
    "Er -> Espesor de pelicula seca micrones en especificaciones. <br>\n",
    "Fs <br>\n",
    "Fa <br>\n",
    "$$ Rendimiento \\ practico \\ x \\ Litro \\ de \\ pintura= \\frac{RT*Et}{Er}*Fa*Fs $$$"
   ]
  },
  {
   "cell_type": "code",
   "execution_count": 10,
   "id": "f218b4ea-e207-4d6c-9119-2002a6a64848",
   "metadata": {},
   "outputs": [
    {
     "name": "stdout",
     "output_type": "stream",
     "text": [
      "Rendimiento Practico 16.46 m2/galon\n",
      "Galones: 1.4\n"
     ]
    }
   ],
   "source": [
    "# Rendimiento de pintura\n",
    "Rt=14.5 # Rendimiento Teorico m2/L\n",
    "Et= 60 # Micrones\n",
    "Er= 25 # Micrones\n",
    "fs=0.9\n",
    "fa=0.80\n",
    "Rendimiento= (Rt*Er)/Et*(fs*fa)\n",
    "print(\"Rendimiento Practico\",round(Rendimiento*3.785,2),\"m2/galon\")\n",
    "# Perimetro de Viga\n",
    "Perimetro=0.77 #m\n",
    "Longitud=30 #m\n",
    "print(\"Galones:\",round(Perimetro*Longitud/(Rendimiento*3.785),2))"
   ]
  },
  {
   "cell_type": "code",
   "execution_count": null,
   "id": "a6db86aa-6191-44fa-a7cf-ee8036130e28",
   "metadata": {},
   "outputs": [],
   "source": []
  }
 ],
 "metadata": {
  "kernelspec": {
   "display_name": "Python 3 (ipykernel)",
   "language": "python",
   "name": "python3"
  },
  "language_info": {
   "codemirror_mode": {
    "name": "ipython",
    "version": 3
   },
   "file_extension": ".py",
   "mimetype": "text/x-python",
   "name": "python",
   "nbconvert_exporter": "python",
   "pygments_lexer": "ipython3",
   "version": "3.12.10"
  }
 },
 "nbformat": 4,
 "nbformat_minor": 5
}

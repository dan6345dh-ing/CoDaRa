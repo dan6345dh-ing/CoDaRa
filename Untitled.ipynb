{
 "cells": [
  {
   "cell_type": "markdown",
   "id": "d5d35b3a-1da7-4f1e-bcea-05d504619760",
   "metadata": {},
   "source": [
    "### HORMIGON I\n"
   ]
  },
  {
   "cell_type": "markdown",
   "id": "a9f05472-0073-4236-a447-3a00f7fe2d92",
   "metadata": {},
   "source": [
    "## Analisis de vigas rectangulares varias capas de refuerzo"
   ]
  },
  {
   "cell_type": "markdown",
   "id": "3d352e5d-40ca-4194-b2ad-f2f5627c1959",
   "metadata": {},
   "source": [
    "En este cuaderno bla blabla"
   ]
  },
  {
   "cell_type": "code",
   "execution_count": 1,
   "id": "e68ba874-663c-4673-9071-53a14275bf9d",
   "metadata": {},
   "outputs": [
    {
     "name": "stdout",
     "output_type": "stream",
     "text": [
      "La deformacion unitaria de la capa As1, eps1 = -0.015789 [m/m].\n",
      "|eps_s1| = 0.015789 [m/m] >= eps_y + 0.003 = 0.0051 [m/m]. Seccion Controlada por Traccion!\n",
      "Ci= 0.10170715347891716\n",
      "Di= [0.637, 0.587, 0.11, 0.0627]\n",
      "Momento nominal , Mn = 739.0 [kN-m].\n",
      "Reduccion de resistencia , phi = 0.9 [kN-m].\n",
      "Momento nominal reducido, phiMn = 665.1 [kN-m].\n"
     ]
    }
   ],
   "source": [
    "# Importo paquetes que me sean necesarios\n",
    "import numpy as np\n",
    "import sympy as sp\n",
    "\n",
    "# Inicio con la introduccion de datos para el analisis\n",
    "fpc = 30                                        # [MPa] resistencia a la compresion del hormigon.\n",
    "fy = 420                                        # [MPa] resistencia a la fluencia del acero de refuerzo.\n",
    "Es = 200000                                     # [MPa] modulo de eslasticidad del acero de refuerzo.\n",
    "Asi = [0.001588,0.001136,0.00102,0.00204]     # [m2] area de cada capa de acero de refuerzo. [As1, As2,..., Asi, ..., Asn]\n",
    "Asi = [0.00204,0.00102,0.001136,0.001588]     # [m2] area de cada capa de acero de refuerzo. [As1, As2,..., Asi, ..., Asn]\n",
    "nbi = [4,2,4,4]                                 # [u] numero de barras en cada capa de acero de refuerzo. [nb1, nb2,..., nbi, ..., nbn]\n",
    "dbi = [0.0254,0.0191,0.0254,0.0254]             # [m] diametro nominal de cada capa de acero de refuerzo. [db1, db2, ..., dbi, ..., dbn].\n",
    "dest = 1/100                                   # [m] diametro nominal del refuerzo transversal.\n",
    "reftrans = 'otro'                               # [STRING] definicion del tipo de armadura transversal.\n",
    "\n",
    "# Datos de geometria\n",
    "b = 0.45                                   # [m] ancho de la viga de seccion rectangular.\n",
    "h = 0.70                                   # [m] peralte total de la viga de seccion rectangular.\n",
    "rec = 0.04                                 # [m] recubrimiento de hormigon para el acero mas exterior.\n",
    "\n",
    "# Creacion de funciones que me van a servir para el analisis\n",
    "# ----------------------------------------------------------\n",
    "def det_beta1(fpc):\n",
    "    \"\"\"Funcion que me permite calcular el fator beta1 que depende unicamente de la resistencia a la compresion del hormigon.\"\"\"\n",
    "    if fpc >= 17 and fpc <= 28:\n",
    "        beta1 = 0.85\n",
    "    elif fpc > 28 and fpc < 55:\n",
    "        beta1 = 0.85 - 0.05*(fpc - 28)/7\n",
    "    else:\n",
    "        beta1 = 0.65\n",
    "    return beta1\n",
    "\n",
    "def det_di(Asi,h,rec,dest,dbi):\n",
    "    \"\"\"Funcion que me ayuda a calcular las distancias di de cada capa de acero de refuerzo.\n",
    "    Asume que en la direccion del peralte total de la seccion, las capas estan equiespaciadas.\"\"\"\n",
    "    n = len(Asi)                         # [u] numero de capas en la seccion.\n",
    "    d1 = h - rec - dest - dbi[0]/2       # [m] peralte efectivo de la seccion. Distancia desde la fibra en compresion hasta la capa mas extrema en traccion.\n",
    "    dn = rec + dest + dbi[-1]/2          # [m] Distancia desde la fibra en compresion hasta la capa mas cercana de acero.\n",
    "    ei = (d1 - dn)/(n-1)                 # [m] espaciamiento centro a centro de cada capa de acero de refuerzo.\n",
    "    di = [d1]                            # [m] lista de valores de di antes de empezar a llenarlo con los valores adecuads.\n",
    "    for i in range(n-1):\n",
    "        di.append(di[-1] - ei)\n",
    "    return di\n",
    "\n",
    "def det_phi(Es,fy,d1,c):\n",
    "    \"\"\"Funcion que me ayuda a definir el estado de trabajo de la seccion. Si es una seccion controlada por traccion, phi=0.9\"\"\"\n",
    "    eps_y = fy/Es                                         # [m/m] deformacion unitaria de fluencia.\n",
    "    eps_s1 = 0.003*(c - d1)/c                             # [m/m] deformacion unitaria de la capa extrema en traccion.\n",
    "    print(f'La deformacion unitaria de la capa As1, eps1 = {round(eps_s1,6)} [m/m].')\n",
    "    if abs(eps_s1) < eps_y:\n",
    "        if reftrans == 'otro':\n",
    "            phi = 0.65\n",
    "        elif reftrans == 'espiral':\n",
    "            phi = 0.75\n",
    "        print(f'|eps_s1| = {round(abs(eps_s1),6)} [m/m] < eps_y = {round(eps_y,6)} [m/m]. Seccion Controlada por Compresion!')\n",
    "    elif abs(eps_s1) >= eps_y and abs(eps_s1) < eps_y + 0.003:\n",
    "        if reftrans == 'otro':\n",
    "            phi = 0.65 + 0.25*(abs(eps_s1) - eps_y)/0.003\n",
    "        elif reftrans == 'espiral':\n",
    "            phi = 0.75 + 0.15*(abs(eps_s1) - eps_y)/0.003\n",
    "        print(f'|eps_s1| = {round(abs(eps_s1),6)} [m/m] < eps_y + 0.003 = {round(eps_y + 0.003,6)} [m/m]. Seccion en Transicion!')\n",
    "    else:\n",
    "        phi = 0.9\n",
    "        print(f'|eps_s1| = {round(abs(eps_s1),6)} [m/m] >= eps_y + 0.003 = {round(eps_y + 0.003,6)} [m/m]. Seccion Controlada por Traccion!')\n",
    "    \n",
    "    return eps_s1, phi\n",
    "\n",
    "\n",
    "def det_Mn(Asi,fpc,b,beta1,di,fy):\n",
    "    \"\"\"Funcion para determinar el momento nominal de una seccion rectangular con varias capas de refuerzo.\n",
    "    #Contiene un proceso iterativo que me ayuda a verificar cuando una capa esta fluyendo o no.\"\"\"\n",
    "    c = sp.Symbol('c')                        # defino como variable simbolica a la profundidad del eje neutro.\n",
    "    sup = np.zeros((1,len(Asi)))            # defino una matriz de indicadores del supuesto de fluencia.\n",
    "    fscalc = np.zeros((1,len(Asi)))            # defino una matriz con esfuerzos calculados en cada paso.\n",
    "    fsreal = np.zeros((1,len(Asi)))            # defino una matriz esfuerzos reales en cada paso (limitados por fy).\n",
    "\n",
    "    EqFzs = [0.85*fpc*b*beta1*c]\n",
    "    fsi = []\n",
    "    Fsi = []\n",
    "\n",
    "    # Armado de ecuacion del equilibrio para calcular c.\n",
    "    for i in range(len(Asi)):\n",
    "        if sup[-1,i] == 0:\n",
    "            fsi.append(600*(c - di[i])/c)\n",
    "        else:\n",
    "            #fsi.append(fy*np.sign(c - di[i]))\n",
    "            pass\n",
    "        Fsi.append(Asi[i]*fsi[i])\n",
    "    EqFzs = sum(EqFzs + Fsi)\n",
    "    ci = sp.solve(EqFzs,c)\n",
    "    ci = float(min([x for x in ci if x > 0]))\n",
    "\n",
    "    # Con la c calculada, determino si las capas fluyen o no fluyen y actualizo el supuesto.\n",
    "    sup_i = np.zeros(len(Asi))\n",
    "    fs_c = np.zeros(len(Asi))\n",
    "    fs_r = np.zeros(len(Asi))\n",
    "    for i in range(len(Asi)):\n",
    "        fs_c[i] = 600*(ci - di[i])/ci                 # [MPa] esfuerzo en la capa de acero i.\n",
    "        signfs = np.sign(fs_c[i])                        # [-] signo del esfuerzo en la capa i.\n",
    "        # Verifico si esta capa esta fluyendo o no\n",
    "        if abs(fs_c[i]) >= fy:\n",
    "            fs_r[i] = signfs*fy\n",
    "            sup_i[i] = 1\n",
    "        else:\n",
    "            fs_r[i] = fs_c[i]\n",
    "            sup_i[i] = 0\n",
    "\n",
    "    # Anado los datos obtenidos a las matrices generadas anteriormente.\n",
    "    fscalc = np.vstack((fscalc,fs_c))\n",
    "    fsreal = np.vstack((fsreal,fs_r))\n",
    "    sup = np.vstack((sup,sup_i))\n",
    "\n",
    "    while sum(sup[-1,:] == sup[-2,:]) != len(Asi):\n",
    "        EqFzs = [0.85*fpc*b*beta1*c]\n",
    "        fsi = []\n",
    "        Fsi = []\n",
    "\n",
    "        # Armado de ecuacion del equilibrio para calcular c.\n",
    "        for i in range(len(Asi)):\n",
    "            if sup[-1,i] == 0:\n",
    "                fsi.append(600*(c - di[i])/c)\n",
    "            else:\n",
    "                fsi.append(fsreal[-1,i])\n",
    "            Fsi.append(Asi[i]*fsi[i])\n",
    "        EqFzs = sum(EqFzs + Fsi)\n",
    "        ci = sp.solve(EqFzs,c)\n",
    "        ci = float(min([x for x in ci if x > 0]))\n",
    "\n",
    "        # Con la c calculada, determino si las capas fluyen o no fluyen y actualizo el supuesto.\n",
    "        sup_i = np.zeros(len(Asi))\n",
    "        fs_c = np.zeros(len(Asi))\n",
    "        fs_r = np.zeros(len(Asi))\n",
    "        for i in range(len(Asi)):\n",
    "            fs_c[i] = 600*(ci - di[i])/ci                 # [MPa] esfuerzo en la capa de acero i.\n",
    "            signfs = np.sign(fs_c[i])                        # [-] signo del esfuerzo en la capa i.\n",
    "            # Verifico si esta capa esta fluyendo o no\n",
    "            if abs(fs_c[i]) >= fy:\n",
    "                fs_r[i] = signfs*fy\n",
    "                sup_i[i] = 1\n",
    "            else:\n",
    "                fs_r[i] = fs_c[i]\n",
    "                sup_i[i] = 0\n",
    "\n",
    "        # Anado los datos obtenidos a las matrices generadas anteriormente.\n",
    "        fscalc = np.vstack((fscalc,fs_c))\n",
    "        fsreal = np.vstack((fsreal,fs_r))\n",
    "        sup = np.vstack((sup,sup_i))\n",
    "\n",
    "    # Calculo del Momento Nominal.\n",
    "    a = beta1*ci                                                 # [m] profundidad del eje neutro.\n",
    "    Mni = [0.85*fpc*b*beta1*ci*(ci - a/2)]                       # [MN-m] primer termino del momento nominal. Momento compresion hormigon.\n",
    "    for i in range(len(Asi)):\n",
    "        Mni.append(Asi[i]*fsreal[-1,i]*(ci - di[i]))             # [MN-m] anado los terminos de momento de cada capa de acero.\n",
    "\n",
    "    # Suma de cada termino de momentos para hallar el momento nominal total\n",
    "    Mn = sum(Mni)*1e3                                            # [kN-m] momento nominal de la seccion. Momento positivo.\n",
    "\n",
    "    # Determinacion del estado de la seccion por el calculo de eps_s1 y phi.\n",
    "    eps_s1, phi = det_phi(Es,fy,di[0],ci)                        # [-] funcion para calcular eps_s1 y phi\n",
    "\n",
    "    # Momento disponible, momento noinal reducido, momento de diseno.\n",
    "    phiMn = phi*Mn                                               # [kN-m] momento nominal de la seccion para momento positivo.\n",
    "\n",
    "    print(\"Ci=\",ci)\n",
    "    print(\"Di=\",di)\n",
    "    return Mn, phi, phiMn, fscalc, fsreal, sup\n",
    "\n",
    "# Analisis de la seccion.\n",
    "beta1 = det_beta1(fpc)\n",
    "di = det_di(Asi,h,rec,dest,dbi)\n",
    "\n",
    "di=[0.637,0.587,0.11,0.0627]\n",
    "\n",
    "\n",
    "Mn, phi, phiMn, fscalc, fsreal, sup = det_Mn(Asi,fpc,b,beta1,di,fy)\n",
    "\n",
    "\n",
    "\n",
    "\n",
    "print(f'Momento nominal , Mn = {round(Mn,2)} [kN-m].')\n",
    "print(f'Reduccion de resistencia , phi = {round(phi,2)} [kN-m].')\n",
    "print(f'Momento nominal reducido, phiMn = {round(phiMn,2)} [kN-m].')"
   ]
  },
  {
   "cell_type": "code",
   "execution_count": 2,
   "id": "edf77738-fe47-4c97-b5fc-f2e02181d6ea",
   "metadata": {},
   "outputs": [
    {
     "data": {
      "text/plain": [
       "array([[    0.        ,     0.        ,     0.        ,     0.        ],\n",
       "       [-1091.6026998 ,  -958.82383796,   307.88650396,   433.49530726],\n",
       "       [-3887.00676053, -3534.80842768,  -174.83633227,   158.3432906 ],\n",
       "       [-3157.84777104, -2862.88326782,   -48.92190709,   230.11451296]])"
      ]
     },
     "execution_count": 2,
     "metadata": {},
     "output_type": "execute_result"
    }
   ],
   "source": [
    "fscalc"
   ]
  },
  {
   "cell_type": "code",
   "execution_count": 3,
   "id": "18fa815a-83f8-4d9b-9507-fc4cdcd9f616",
   "metadata": {},
   "outputs": [
    {
     "data": {
      "text/plain": [
       "array([[   0.        ,    0.        ,    0.        ,    0.        ],\n",
       "       [-420.        , -420.        ,  307.88650396,  420.        ],\n",
       "       [-420.        , -420.        , -174.83633227,  158.3432906 ],\n",
       "       [-420.        , -420.        ,  -48.92190709,  230.11451296]])"
      ]
     },
     "execution_count": 3,
     "metadata": {},
     "output_type": "execute_result"
    }
   ],
   "source": [
    "fsreal"
   ]
  },
  {
   "cell_type": "code",
   "execution_count": 4,
   "id": "269d475b-e04a-4ab1-a35c-4fa3a515ced8",
   "metadata": {},
   "outputs": [
    {
     "data": {
      "text/plain": [
       "array([[0., 0., 0., 0.],\n",
       "       [1., 1., 0., 1.],\n",
       "       [1., 1., 0., 0.],\n",
       "       [1., 1., 0., 0.]])"
      ]
     },
     "execution_count": 4,
     "metadata": {},
     "output_type": "execute_result"
    }
   ],
   "source": [
    "sup"
   ]
  },
  {
   "cell_type": "code",
   "execution_count": 5,
   "id": "470c6509-0e3d-49b9-8cf5-e37d552865c8",
   "metadata": {},
   "outputs": [
    {
     "data": {
      "text/plain": [
       "[0.637, 0.587, 0.11, 0.0627]"
      ]
     },
     "execution_count": 5,
     "metadata": {},
     "output_type": "execute_result"
    }
   ],
   "source": [
    "di"
   ]
  },
  {
   "cell_type": "code",
   "execution_count": null,
   "id": "dcc5f19a-12d8-43fe-a9fd-92e34cb95171",
   "metadata": {},
   "outputs": [],
   "source": []
  },
  {
   "cell_type": "code",
   "execution_count": null,
   "id": "19dd9850-f03b-4aeb-b128-d7a62b038c81",
   "metadata": {},
   "outputs": [],
   "source": []
  }
 ],
 "metadata": {
  "kernelspec": {
   "display_name": "Python 3 (ipykernel)",
   "language": "python",
   "name": "python3"
  },
  "language_info": {
   "codemirror_mode": {
    "name": "ipython",
    "version": 3
   },
   "file_extension": ".py",
   "mimetype": "text/x-python",
   "name": "python",
   "nbconvert_exporter": "python",
   "pygments_lexer": "ipython3",
   "version": "3.12.10"
  }
 },
 "nbformat": 4,
 "nbformat_minor": 5
}

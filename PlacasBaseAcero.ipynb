{
 "cells": [
  {
   "cell_type": "markdown",
   "id": "5c94d31b-df89-4316-8dd9-6dda7432d733",
   "metadata": {},
   "source": [
    "##### <p> Placas Base Metalicas </p>\n",
    "\n",
    "###### <p>-Basado en: \"Base Plate and Anchor Rod Desing\" 2nd Edition </p>\n",
    "\n",
    "Resistance Factor $\\phi$ <br>\n",
    "Safety Factor $\\Omega$\n"
   ]
  },
  {
   "cell_type": "markdown",
   "id": "95784376-3910-48b9-bb38-7ae90d22a0d8",
   "metadata": {},
   "source": [
    "| Tabla 2.1               | Materiales de Placa Base                |\n",
    "|-------------------------|-----------------------------------------|\n",
    "| Espesor ($t_{p}$)       | Disponible                              |\n",
    "| $t_{p} \\le 4 in \\ [101.6mm]$        | A36<br>A572 Gr42 Gr50<br>A588 Gr42 Gr50 |\n",
    "| $4 in < t_{p} \\le 6 in \\ [152.4mm]$ | A36<br>A572 Gr42<br>A588 Gr42           |\n",
    "| $t_{p} > 6 in$          | A36                                     |"
   ]
  },
  {
   "cell_type": "markdown",
   "id": "a81a3e94-8d19-446c-ad81-0223415e7140",
   "metadata": {},
   "source": [
    "Apendices Interesantes <br>\n",
    "Diseño solo por Compresion - Seccion 3: Estos no necesitan realmente pernos o parecidos. \"Anchor Rods\" <br>"
   ]
  },
  {
   "cell_type": "markdown",
   "id": "4c540823-ffd6-4fd6-9798-9ead20e6aa5b",
   "metadata": {},
   "source": [
    "Tabla 2.2 Material de Perno de Anclaje\n",
    "| Material              | Fu <br>(Tensile Streng) | Fnt <br>(Nominal Tensile Streng)<br>0.75 Fu | Fnv<br>Nominal Shear Stress (X Type)<br>0.50 Fu | Fnv<br>Nominal Shear Stress (N Type)<br>0.40 Fu | Diametros                       |\n",
    "|-----------------------|-------------------------|---------------------------------------------|-------------------------------------------------|-------------------------------------------------|---------------------------------|\n",
    "| ASTM36                | 58 ksi                  | 43.5 ksi                                    | 29.0 ksi                                        | 23.2 ksi                                        | 4 in                            |\n",
    "| Varillas<br>ASTM A706 | 80 ksi<br>4200 kgf/cm2      | 60 ksi                                        | 40  ksi                                             | 32  ksi                                             | 8/10/12<br>14/16/18<br>20/22/25 |"
   ]
  }
 ],
 "metadata": {
  "kernelspec": {
   "display_name": "Python 3 (ipykernel)",
   "language": "python",
   "name": "python3"
  },
  "language_info": {
   "codemirror_mode": {
    "name": "ipython",
    "version": 3
   },
   "file_extension": ".py",
   "mimetype": "text/x-python",
   "name": "python",
   "nbconvert_exporter": "python",
   "pygments_lexer": "ipython3",
   "version": "3.12.10"
  }
 },
 "nbformat": 4,
 "nbformat_minor": 5
}

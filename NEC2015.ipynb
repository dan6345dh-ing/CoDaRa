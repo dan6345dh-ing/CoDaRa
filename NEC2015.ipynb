{
 "cells": [
  {
   "cell_type": "code",
   "execution_count": 1,
   "id": "3c562e2c-ff71-4ca4-a599-f9f7d4023e59",
   "metadata": {},
   "outputs": [],
   "source": [
    "import numpy as np"
   ]
  },
  {
   "cell_type": "markdown",
   "id": "ddc0087a-9de3-4fbd-986d-e434b8964e66",
   "metadata": {},
   "source": [
    "<b>FORMULA DE ELASTICIDAD DEL HORMIGON (3.3.3) "
   ]
  },
  {
   "cell_type": "markdown",
   "id": "a48b4ebb-fc7b-46b8-986a-4e59aa06f124",
   "metadata": {},
   "source": [
    "\\$E_{h}=4.7*\\sqrt{f'c} \\quad f'c -> MPA \\quad E_{h} -> GPA$"
   ]
  },
  {
   "cell_type": "code",
   "execution_count": 2,
   "id": "192f0ef2-9871-4227-95ed-560f23168e6b",
   "metadata": {},
   "outputs": [
    {
     "name": "stdout",
     "output_type": "stream",
     "text": [
      "Eh= 217493.389 kgf/cm2\n"
     ]
    }
   ],
   "source": [
    "fc=210 #kgf/cm2\n",
    "fc=fc*0.098067 #MPa\n",
    "Eh=4.7*np.sqrt(fc) #GPa\n",
    "Eh=Eh*1000 # MPa\n",
    "Eh=Eh/0.098067\n",
    "\n",
    "print(\"Eh=\", round(Eh,3), \"kgf/cm2\")"
   ]
  },
  {
   "cell_type": "markdown",
   "id": "955e406a-cd32-4dba-844f-ed4de9da5a6c",
   "metadata": {},
   "source": [
    " <b> Carga muerta comun (3 kN/m2) </b>\n",
    "<ol>\n",
    "<li> (Baldosa Ceramica) 0.2  kN/m2 -> 20.39 kgf/m2  </li>\n",
    "<li> (Losa Deck) 280 kgf/m2 -> 02.75  kN/m2 </li>\n",
    "</ol>\n",
    "<b> Carga viva comun</b>\n",
    "<ol>\n",
    "<li> (Carga de Cubierta) 0.7  kN/m2 -> 71.38 kgf/m2 (100 kgf/m2 para redondear) </li>\n",
    "<li> (Uso Residencial/Habitacion/Aulas) 2.0  kN/m2 -> 203.94 kgf/m2 </li>\n",
    "</ol>\n"
   ]
  },
  {
   "cell_type": "code",
   "execution_count": null,
   "id": "c951a8e2-4e02-4ab1-97dd-81a9e7d0855c",
   "metadata": {},
   "outputs": [],
   "source": []
  }
 ],
 "metadata": {
  "kernelspec": {
   "display_name": "Python 3 (ipykernel)",
   "language": "python",
   "name": "python3"
  },
  "language_info": {
   "codemirror_mode": {
    "name": "ipython",
    "version": 3
   },
   "file_extension": ".py",
   "mimetype": "text/x-python",
   "name": "python",
   "nbconvert_exporter": "python",
   "pygments_lexer": "ipython3",
   "version": "3.12.10"
  }
 },
 "nbformat": 4,
 "nbformat_minor": 5
}
